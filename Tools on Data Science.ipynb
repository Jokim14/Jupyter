{
 "cells": [
  {
   "cell_type": "markdown",
   "id": "7bd2047b",
   "metadata": {},
   "source": [
    "# My Jupyter Notebook on IBM Watson Studio"
   ]
  },
  {
   "cell_type": "markdown",
   "id": "6b93ae2c",
   "metadata": {},
   "source": [
    "**Joseph Kim** <br>Network Security Analyst"
   ]
  },
  {
   "cell_type": "markdown",
   "id": "2bdd8b6e",
   "metadata": {},
   "source": [
    "*I am interested in data science as it applies to understanding behavioral analysis on networks.*"
   ]
  },
  {
   "cell_type": "markdown",
   "id": "7d6cacfd",
   "metadata": {},
   "source": [
    "### The code randomly generates a number between 0 and 15."
   ]
  },
  {
   "cell_type": "code",
   "execution_count": 2,
   "id": "c68aa21f",
   "metadata": {},
   "outputs": [
    {
     "name": "stdout",
     "output_type": "stream",
     "text": [
      "6\n"
     ]
    }
   ],
   "source": [
    "import random\n",
    "\n",
    "print(random.randint(0,15))"
   ]
  },
  {
   "cell_type": "markdown",
   "id": "b43554ba",
   "metadata": {},
   "source": [
    "- this \n",
    "- is\n",
    "- a \n",
    "- bullet\n",
    "- list <br><br> \n",
    "1. this is \n",
    "2. a number list <br><br>\n",
    "__[Click me, or not. Up to you.](https://www.google.com/url?sa=i&url=https%3A%2F%2Fmakeameme.org%2Fmeme%2Fwhy-you-here-b4f6838383&psig=AOvVaw02lvsmlVhfS1Vke3xvzevV&ust=1644508185881000&source=images&cd=vfe&ved=0CAsQjRxqFwoTCIjX_sP88vUCFQAAAAAdAAAAABAD)__"
   ]
  }
 ],
 "metadata": {
  "kernelspec": {
   "display_name": "Python 3",
   "language": "python",
   "name": "python3"
  },
  "language_info": {
   "codemirror_mode": {
    "name": "ipython",
    "version": 3
   },
   "file_extension": ".py",
   "mimetype": "text/x-python",
   "name": "python",
   "nbconvert_exporter": "python",
   "pygments_lexer": "ipython3",
   "version": "3.6.13"
  }
 },
 "nbformat": 4,
 "nbformat_minor": 5
}
